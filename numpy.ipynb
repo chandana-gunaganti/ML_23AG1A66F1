{
  "nbformat": 4,
  "nbformat_minor": 0,
  "metadata": {
    "colab": {
      "provenance": []
    },
    "kernelspec": {
      "name": "python3",
      "display_name": "Python 3"
    },
    "language_info": {
      "name": "python"
    }
  },
  "cells": [
    {
      "cell_type": "markdown",
      "source": [
        "Import"
      ],
      "metadata": {
        "id": "_1YmKGhevYB1"
      }
    },
    {
      "cell_type": "code",
      "execution_count": null,
      "metadata": {
        "id": "XKvdhZNREopG"
      },
      "outputs": [],
      "source": [
        "import numpy as np"
      ]
    },
    {
      "cell_type": "markdown",
      "source": [
        "Array Creation"
      ],
      "metadata": {
        "id": "A--2f_ehLwPj"
      }
    },
    {
      "cell_type": "code",
      "source": [
        "list1=[2,4,3,1]\n",
        "arr=np.array(list1)\n",
        "print(arr)"
      ],
      "metadata": {
        "colab": {
          "base_uri": "https://localhost:8080/"
        },
        "id": "LgS5MZtLI9GU",
        "outputId": "7ed01b5a-220d-4d3c-9fb4-146df7de9b66"
      },
      "execution_count": null,
      "outputs": [
        {
          "output_type": "stream",
          "name": "stdout",
          "text": [
            "[2 4 3 1]\n"
          ]
        }
      ]
    },
    {
      "cell_type": "markdown",
      "source": [
        "1-D"
      ],
      "metadata": {
        "id": "4JJ6G_PCLqOA"
      }
    },
    {
      "cell_type": "code",
      "source": [
        "array=np.array([1,2,3,4])\n",
        "print(array)"
      ],
      "metadata": {
        "colab": {
          "base_uri": "https://localhost:8080/"
        },
        "id": "FhDh_2lIJTd1",
        "outputId": "fb7fe021-fcd8-4061-989d-7d0abc4f5ba3"
      },
      "execution_count": null,
      "outputs": [
        {
          "output_type": "stream",
          "name": "stdout",
          "text": [
            "[1 2 3 4]\n"
          ]
        }
      ]
    },
    {
      "cell_type": "markdown",
      "source": [
        "2-D"
      ],
      "metadata": {
        "id": "6XGMTHJ1Lm51"
      }
    },
    {
      "cell_type": "code",
      "source": [
        "array1 = np.array([[1,2,3,4],\n",
        " [3,4,5,6]])\n",
        "print(array1)"
      ],
      "metadata": {
        "colab": {
          "base_uri": "https://localhost:8080/"
        },
        "id": "2ZJc6DmpKDMN",
        "outputId": "cc49a503-17e6-4a77-99af-a1da2b665cfa"
      },
      "execution_count": null,
      "outputs": [
        {
          "output_type": "stream",
          "name": "stdout",
          "text": [
            "[[1 2 3 4]\n",
            " [3 4 5 6]]\n"
          ]
        }
      ]
    },
    {
      "cell_type": "markdown",
      "source": [
        "3-D"
      ],
      "metadata": {
        "id": "qCTrwQn0LhN9"
      }
    },
    {
      "cell_type": "code",
      "source": [
        "array2 = np.array([[[1,2,3,4],\n",
        "                 [3,4,5,6],\n",
        "                 [4,3,2,1]],\n",
        "\n",
        "                [[2,3,4,5],\n",
        "                  [3,4,5,6],\n",
        "                  [4,7,8,9]]])\n",
        "\n",
        "print(array1)"
      ],
      "metadata": {
        "colab": {
          "base_uri": "https://localhost:8080/"
        },
        "id": "v3j8z0cGKTKe",
        "outputId": "787f1bbc-a1ee-4737-9c2b-6771a1690425"
      },
      "execution_count": null,
      "outputs": [
        {
          "output_type": "stream",
          "name": "stdout",
          "text": [
            "[[1 2 3 4]\n",
            " [3 4 5 6]]\n"
          ]
        }
      ]
    },
    {
      "cell_type": "markdown",
      "source": [
        "Data Type"
      ],
      "metadata": {
        "id": "u7EFowjQL5u-"
      }
    },
    {
      "cell_type": "code",
      "source": [
        "array3 = np.array([[1,2,3,4],\n",
        " [3,4,5,6]])\n",
        "print(array3.dtype)"
      ],
      "metadata": {
        "colab": {
          "base_uri": "https://localhost:8080/"
        },
        "id": "8Z8MYgGgLK4c",
        "outputId": "27d188ee-7ef1-4290-dd2c-6b202d037323"
      },
      "execution_count": 32,
      "outputs": [
        {
          "output_type": "stream",
          "name": "stdout",
          "text": [
            "int64\n"
          ]
        }
      ]
    },
    {
      "cell_type": "code",
      "source": [
        "array2 = np.array([[1,2,3,4],\n",
        " [3,4,5,6]])\n",
        "print(array2.dtype)"
      ],
      "metadata": {
        "colab": {
          "base_uri": "https://localhost:8080/"
        },
        "id": "uTY3r6Dpvd32",
        "outputId": "70528cf1-68e9-4932-8836-4aab9561d099"
      },
      "execution_count": 33,
      "outputs": [
        {
          "output_type": "stream",
          "name": "stdout",
          "text": [
            "int64\n"
          ]
        }
      ]
    },
    {
      "cell_type": "markdown",
      "source": [
        "shape,size,dimensions"
      ],
      "metadata": {
        "id": "9OL34OtpNBk5"
      }
    },
    {
      "cell_type": "code",
      "source": [
        "print(array3.shape)\n",
        "print(array3.size)\n",
        "print(array3.ndim)"
      ],
      "metadata": {
        "colab": {
          "base_uri": "https://localhost:8080/"
        },
        "id": "FrxCQaAIMRVO",
        "outputId": "517de80a-d585-45c2-fc7e-af61eab4e984"
      },
      "execution_count": null,
      "outputs": [
        {
          "output_type": "stream",
          "name": "stdout",
          "text": [
            "(2, 4)\n",
            "8\n",
            "2\n"
          ]
        }
      ]
    },
    {
      "cell_type": "markdown",
      "source": [
        "itemsize\n"
      ],
      "metadata": {
        "id": "b-8bJsjENQLw"
      }
    },
    {
      "cell_type": "code",
      "source": [
        "array4 = np.array([2,3,4,5])\n",
        "array5 = np.array([4,5,6,7], dtype=np.int32)\n",
        "print(array4.itemsize)\n",
        "print(array5.itemsize)"
      ],
      "metadata": {
        "colab": {
          "base_uri": "https://localhost:8080/"
        },
        "id": "X9---utHNU_O",
        "outputId": "cc013c16-5d5c-4112-8ccc-cf9a30e2b43d"
      },
      "execution_count": null,
      "outputs": [
        {
          "output_type": "stream",
          "name": "stdout",
          "text": [
            "8\n",
            "4\n"
          ]
        }
      ]
    },
    {
      "cell_type": "code",
      "source": [
        "array4 = np.array([2,3,4,5])\n",
        "array5 = np.array([4,5,6,7], dtype=np.int64)\n",
        "print(array4.itemsize)\n",
        "print(array5.itemsize)"
      ],
      "metadata": {
        "colab": {
          "base_uri": "https://localhost:8080/"
        },
        "id": "VaYnTSJUvqe5",
        "outputId": "aee698a4-e877-4a0e-f3c9-7b8c75c56b92"
      },
      "execution_count": 34,
      "outputs": [
        {
          "output_type": "stream",
          "name": "stdout",
          "text": [
            "8\n",
            "8\n"
          ]
        }
      ]
    },
    {
      "cell_type": "code",
      "source": [
        "import numpy as np\n",
        "\n",
        "arr7 = np.array([[1,2,3,4]])\n",
        "print(arr7[0])"
      ],
      "metadata": {
        "colab": {
          "base_uri": "https://localhost:8080/"
        },
        "id": "vippHv3Mv1kj",
        "outputId": "9ef139e4-5e62-46c0-92ca-9e20e3a2e597"
      },
      "execution_count": 37,
      "outputs": [
        {
          "output_type": "stream",
          "name": "stdout",
          "text": [
            "[1 2 3 4]\n"
          ]
        }
      ]
    },
    {
      "cell_type": "code",
      "source": [
        "import numpy as np\n",
        "\n",
        "arr7 = np.array([[1,2,3,4]])\n",
        "print(arr7[0])\n"
      ],
      "metadata": {
        "colab": {
          "base_uri": "https://localhost:8080/"
        },
        "id": "GOqqCShKrtr_",
        "outputId": "3771ebb9-8a82-453f-a0be-c3929e6cab97"
      },
      "execution_count": 18,
      "outputs": [
        {
          "output_type": "stream",
          "name": "stdout",
          "text": [
            "[1 2 3 4]\n"
          ]
        }
      ]
    },
    {
      "cell_type": "markdown",
      "source": [
        "modify"
      ],
      "metadata": {
        "id": "_ffTICNCtPMo"
      }
    },
    {
      "cell_type": "code",
      "source": [
        "array[1]=10\n",
        "print(array)"
      ],
      "metadata": {
        "colab": {
          "base_uri": "https://localhost:8080/"
        },
        "id": "Q0VspGxAtAxS",
        "outputId": "48cce8d9-48d2-4708-ddfa-f7f55d59b0a5"
      },
      "execution_count": 21,
      "outputs": [
        {
          "output_type": "stream",
          "name": "stdout",
          "text": [
            "[ 1 10  3  4]\n"
          ]
        }
      ]
    },
    {
      "cell_type": "code",
      "source": [
        "array = np.array([[9,8,6,5],\n",
        "                       [0,6,5,45],\n",
        "                       [2, 4, 6, 8]])\n",
        "ele1 = array[1, 3]\n",
        "print(\"4th Element at 2nd Row:\",ele1)\n",
        "ele2 = array[0, 1]\n",
        "print(\"2nd Element at First Row:\",ele2)"
      ],
      "metadata": {
        "colab": {
          "base_uri": "https://localhost:8080/"
        },
        "id": "E12Bg4B2tXH6",
        "outputId": "d4542afe-9aee-443e-f060-a17045029574"
      },
      "execution_count": 24,
      "outputs": [
        {
          "output_type": "stream",
          "name": "stdout",
          "text": [
            "4th Element at 2nd Row: 45\n",
            "2nd Element at First Row: 8\n"
          ]
        }
      ]
    },
    {
      "cell_type": "markdown",
      "source": [
        "median"
      ],
      "metadata": {
        "id": "g4_IEP4pt3PS"
      }
    },
    {
      "cell_type": "code",
      "source": [
        "array1 = np.array([1, 2, 3, 4, 5])\n",
        "median = np.median(array1)\n",
        "\n",
        "print(median)"
      ],
      "metadata": {
        "colab": {
          "base_uri": "https://localhost:8080/"
        },
        "id": "jv4Rs1fntxaT",
        "outputId": "38b4e57a-4b72-4423-f0cb-f42a2dd26cf3"
      },
      "execution_count": 25,
      "outputs": [
        {
          "output_type": "stream",
          "name": "stdout",
          "text": [
            "3.0\n"
          ]
        }
      ]
    },
    {
      "cell_type": "markdown",
      "source": [
        "min"
      ],
      "metadata": {
        "id": "5AjX8MpduIZv"
      }
    },
    {
      "cell_type": "code",
      "source": [
        "m= np.array([76, 78, 81, 66, 85])\n",
        "std_m = np.min(m)\n",
        "print(std_m)"
      ],
      "metadata": {
        "colab": {
          "base_uri": "https://localhost:8080/"
        },
        "id": "fY6POalkt7rJ",
        "outputId": "959d03fc-e721-49f2-8684-157e014b1887"
      },
      "execution_count": 26,
      "outputs": [
        {
          "output_type": "stream",
          "name": "stdout",
          "text": [
            "66\n"
          ]
        }
      ]
    },
    {
      "cell_type": "markdown",
      "source": [
        "max"
      ],
      "metadata": {
        "id": "9TodlrfFuKkj"
      }
    },
    {
      "cell_type": "code",
      "source": [
        "m = np.array([76, 78, 81, 66, 85])\n",
        "std_m = np.max(m)\n",
        "print(std_m)"
      ],
      "metadata": {
        "colab": {
          "base_uri": "https://localhost:8080/"
        },
        "id": "n7iu7GzruLby",
        "outputId": "1f12b9d3-88e8-473f-dc10-3f852f1f6eae"
      },
      "execution_count": 28,
      "outputs": [
        {
          "output_type": "stream",
          "name": "stdout",
          "text": [
            "85\n"
          ]
        }
      ]
    },
    {
      "cell_type": "markdown",
      "source": [
        "percentail"
      ],
      "metadata": {
        "id": "DKFNpsdGujc2"
      }
    },
    {
      "cell_type": "code",
      "source": [
        "ms = np.array([98,65,45,34,56,78,12,32,45])\n",
        "std_ms = np.percentile(ms,50)\n",
        "print(std_ms)"
      ],
      "metadata": {
        "colab": {
          "base_uri": "https://localhost:8080/"
        },
        "id": "4LJq1O-luZ5h",
        "outputId": "6dbbceb6-3981-4234-e7bf-afcb33f34ce8"
      },
      "execution_count": 40,
      "outputs": [
        {
          "output_type": "stream",
          "name": "stdout",
          "text": [
            "45.0\n"
          ]
        }
      ]
    },
    {
      "cell_type": "code",
      "source": [
        "ma = np.array([90,87,67,54,76,67,7,88,26])\n",
        "mean_ma = np.mean(ma)\n",
        "\n",
        "print(mean_ma)"
      ],
      "metadata": {
        "colab": {
          "base_uri": "https://localhost:8080/"
        },
        "id": "OY8-ERdauqYE",
        "outputId": "220bc989-f045-44ea-d42e-e1f33b60a755"
      },
      "execution_count": 38,
      "outputs": [
        {
          "output_type": "stream",
          "name": "stdout",
          "text": [
            "62.44444444444444\n"
          ]
        }
      ]
    }
  ]
}